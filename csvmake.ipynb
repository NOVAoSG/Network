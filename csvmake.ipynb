{
 "cells": [
  {
   "cell_type": "code",
   "execution_count": 22,
   "metadata": {},
   "outputs": [
    {
     "name": "stdout",
     "output_type": "stream",
     "text": [
      "CSV 파일이 생성되었습니다.\n"
     ]
    }
   ],
   "source": [
    "import csv\n",
    "\n",
    "# 텍스트 파일 읽기\n",
    "with open('gang101.txt', 'r', encoding='utf-8') as file:\n",
    "    example_text = file.readlines()\n",
    "\n",
    "# CSV 데이터를 담을 리스트\n",
    "csv_data = []\n",
    "\n",
    "# 작품 정보를 담을 임시 리스트\n",
    "current_entry = []\n",
    "\n",
    "for line in example_text:\n",
    "    if line.startswith('$'):  # '$'로 시작하는 라인은 헤더 정보로 간주\n",
    "        if current_entry:  # 임시 리스트에 값이 있다면 데이터 리스트에 추가\n",
    "            csv_data.append(current_entry)\n",
    "            current_entry = []  # 임시 리스트 초기화\n",
    "\n",
    "        # '$' 이후의 문자열에서 공백 제거 후 ','로 분리하여 헤더로 설정\n",
    "        header = line[1:].strip().split(',')\n",
    "        csv_data.append(header)  # CSV 데이터 리스트에 헤더 추가\n",
    "    else:\n",
    "        # ','로 값을 분리하여 임시 리스트에 추가\n",
    "        values = line.strip().replace(' | ', ',').split(',')\n",
    "        if len(values) > 1:\n",
    "            # 첫 번째 값은 제목, 나머지 값은 작가명, 기법, 크기로 분리하여 추가\n",
    "            current_entry.append(values[0])\n",
    "            current_entry.extend(values[1:])\n",
    "        else:\n",
    "            current_entry.append(values[0])\n",
    "\n",
    "# 마지막 작품 정보 추가\n",
    "if current_entry:\n",
    "    csv_data.append(current_entry)\n",
    "\n",
    "# CSV 파일로 쓰기\n",
    "with open('artworks.csv', 'w', newline='', encoding='utf-8') as file:\n",
    "    writer = csv.writer(file)\n",
    "    for row in csv_data:\n",
    "        writer.writerow([item.replace('|', '') for item in row])\n",
    "\n",
    "print(\"CSV 파일이 생성되었습니다.\")\n"
   ]
  },
  {
   "cell_type": "code",
   "execution_count": 3,
   "metadata": {},
   "outputs": [
    {
     "name": "stdout",
     "output_type": "stream",
     "text": [
      "CSV 파일이 생성되었습니다.\n"
     ]
    }
   ],
   "source": [
    "import csv\n",
    "\n",
    "# 주어진 텍스트 파일 경로\n",
    "input_file_path = 'gang101.txt'  # 수정된 파일명\n",
    "\n",
    "# CSV 파일 경로\n",
    "output_file_path = 'output.csv'  # 수정 필요\n",
    "\n",
    "# 텍스트 파일을 읽어 작품 정보 추출 및 CSV 파일 작성\n",
    "with open(input_file_path, 'r', encoding='utf-8') as input_file, open(output_file_path, 'w', encoding='utf-8', newline='') as output_file:\n",
    "    writer = csv.writer(output_file)\n",
    "    writer.writerow(['작품명', '작가명', '기법', '크기', '작품설명', '인스타아이디'])\n",
    "\n",
    "    lines = input_file.readlines()\n",
    "    current_data = []\n",
    "\n",
    "    for line in lines:\n",
    "        line = line.strip()\n",
    "        if line.startswith('$'):\n",
    "            if current_data:\n",
    "                writer.writerow(current_data)\n",
    "            current_data = [line[1:]]\n",
    "        elif line and not line.startswith('@'):\n",
    "            if '|' in line:\n",
    "                line_data = line.split('|')\n",
    "                current_data.extend([data.strip() for data in line_data])\n",
    "            else:\n",
    "                current_data.append(line)\n",
    "\n",
    "    # 마지막 작품 정보 추가\n",
    "    if current_data:\n",
    "        writer.writerow(current_data)\n",
    "\n",
    "print(\"CSV 파일이 생성되었습니다.\")\n"
   ]
  },
  {
   "cell_type": "code",
   "execution_count": 4,
   "metadata": {},
   "outputs": [
    {
     "name": "stdout",
     "output_type": "stream",
     "text": [
      "CSV 파일이 생성되었습니다.\n"
     ]
    }
   ],
   "source": [
    "import csv\n",
    "\n",
    "# 주어진 텍스트 파일 경로\n",
    "input_file_path = 'gang101.txt'  # 수정된 파일명\n",
    "\n",
    "# CSV 파일 경로\n",
    "output_file_path = 'output.csv'  # 수정 필요\n",
    "\n",
    "# 텍스트 파일을 읽어 작품 정보 추출 및 CSV 파일 작성\n",
    "with open(input_file_path, 'r', encoding='utf-8') as input_file, open(output_file_path, 'w', encoding='utf-8', newline='') as output_file:\n",
    "    writer = csv.writer(output_file)\n",
    "    writer.writerow(['작품명', '작가명', '기법', '크기', '작품설명', '인스타아이디'])\n",
    "\n",
    "    lines = input_file.readlines()\n",
    "    current_data = []\n",
    "\n",
    "    for line in lines:\n",
    "        line = line.strip()\n",
    "        if line.startswith('$'):\n",
    "            if current_data:\n",
    "                writer.writerow(current_data)\n",
    "            current_data = [line[1:]]\n",
    "        elif line:\n",
    "            if line.startswith('@'):\n",
    "                current_data.append(line)\n",
    "                writer.writerow(current_data)\n",
    "                current_data = []  # 다음 작품 정보를 위해 초기화\n",
    "            elif '|' in line:\n",
    "                line_data = line.split('|')\n",
    "                current_data.extend([data.strip() for data in line_data])\n",
    "            else:\n",
    "                current_data.append(line)\n",
    "\n",
    "    # 마지막 작품 정보 추가\n",
    "    if current_data:\n",
    "        writer.writerow(current_data)\n",
    "\n",
    "print(\"CSV 파일이 생성되었습니다.\")\n"
   ]
  },
  {
   "cell_type": "code",
   "execution_count": 5,
   "metadata": {},
   "outputs": [
    {
     "ename": "FileNotFoundError",
     "evalue": "[Errno 2] No such file or directory: '작품정보.csv'",
     "output_type": "error",
     "traceback": [
      "\u001b[0;31m---------------------------------------------------------------------------\u001b[0m",
      "\u001b[0;31mFileNotFoundError\u001b[0m                         Traceback (most recent call last)",
      "\u001b[1;32m/Users/novaowo/Documents/NetworkMedia/csvmake.ipynb 셀 4\u001b[0m line \u001b[0;36m2\n\u001b[1;32m     <a href='vscode-notebook-cell:/Users/novaowo/Documents/NetworkMedia/csvmake.ipynb#W4sZmlsZQ%3D%3D?line=21'>22</a>\u001b[0m \u001b[39m# HTML 생성\u001b[39;00m\n\u001b[1;32m     <a href='vscode-notebook-cell:/Users/novaowo/Documents/NetworkMedia/csvmake.ipynb#W4sZmlsZQ%3D%3D?line=22'>23</a>\u001b[0m html_output \u001b[39m=\u001b[39m \u001b[39m'\u001b[39m\u001b[39m<!DOCTYPE html>\u001b[39m\u001b[39m\\n\u001b[39;00m\u001b[39m<html>\u001b[39m\u001b[39m\\n\u001b[39;00m\u001b[39m<head>\u001b[39m\u001b[39m\\n\u001b[39;00m\u001b[39m<style>\u001b[39m\u001b[39m\\n\u001b[39;00m\u001b[39mbody \u001b[39m\u001b[39m{\u001b[39m\u001b[39mfont-family: Arial, sans-serif;}\u001b[39m\u001b[39m\\n\u001b[39;00m\u001b[39m</style>\u001b[39m\u001b[39m\\n\u001b[39;00m\u001b[39m</head>\u001b[39m\u001b[39m\\n\u001b[39;00m\u001b[39m<body>\u001b[39m\u001b[39m\\n\u001b[39;00m\u001b[39m'\u001b[39m\n\u001b[0;32m---> <a href='vscode-notebook-cell:/Users/novaowo/Documents/NetworkMedia/csvmake.ipynb#W4sZmlsZQ%3D%3D?line=24'>25</a>\u001b[0m \u001b[39mwith\u001b[39;00m \u001b[39mopen\u001b[39;49m(csv_file_path, \u001b[39m'\u001b[39;49m\u001b[39mr\u001b[39;49m\u001b[39m'\u001b[39;49m, encoding\u001b[39m=\u001b[39;49m\u001b[39m'\u001b[39;49m\u001b[39mutf-8\u001b[39;49m\u001b[39m'\u001b[39;49m) \u001b[39mas\u001b[39;00m file:\n\u001b[1;32m     <a href='vscode-notebook-cell:/Users/novaowo/Documents/NetworkMedia/csvmake.ipynb#W4sZmlsZQ%3D%3D?line=25'>26</a>\u001b[0m     csv_reader \u001b[39m=\u001b[39m csv\u001b[39m.\u001b[39mreader(file)\n\u001b[1;32m     <a href='vscode-notebook-cell:/Users/novaowo/Documents/NetworkMedia/csvmake.ipynb#W4sZmlsZQ%3D%3D?line=26'>27</a>\u001b[0m     \u001b[39mnext\u001b[39m(csv_reader)  \u001b[39m# 헤더 행 건너뛰기\u001b[39;00m\n",
      "File \u001b[0;32m~/Library/Python/3.9/lib/python/site-packages/IPython/core/interactiveshell.py:310\u001b[0m, in \u001b[0;36m_modified_open\u001b[0;34m(file, *args, **kwargs)\u001b[0m\n\u001b[1;32m    303\u001b[0m \u001b[39mif\u001b[39;00m file \u001b[39min\u001b[39;00m {\u001b[39m0\u001b[39m, \u001b[39m1\u001b[39m, \u001b[39m2\u001b[39m}:\n\u001b[1;32m    304\u001b[0m     \u001b[39mraise\u001b[39;00m \u001b[39mValueError\u001b[39;00m(\n\u001b[1;32m    305\u001b[0m         \u001b[39mf\u001b[39m\u001b[39m\"\u001b[39m\u001b[39mIPython won\u001b[39m\u001b[39m'\u001b[39m\u001b[39mt let you open fd=\u001b[39m\u001b[39m{\u001b[39;00mfile\u001b[39m}\u001b[39;00m\u001b[39m by default \u001b[39m\u001b[39m\"\u001b[39m\n\u001b[1;32m    306\u001b[0m         \u001b[39m\"\u001b[39m\u001b[39mas it is likely to crash IPython. If you know what you are doing, \u001b[39m\u001b[39m\"\u001b[39m\n\u001b[1;32m    307\u001b[0m         \u001b[39m\"\u001b[39m\u001b[39myou can use builtins\u001b[39m\u001b[39m'\u001b[39m\u001b[39m open.\u001b[39m\u001b[39m\"\u001b[39m\n\u001b[1;32m    308\u001b[0m     )\n\u001b[0;32m--> 310\u001b[0m \u001b[39mreturn\u001b[39;00m io_open(file, \u001b[39m*\u001b[39;49margs, \u001b[39m*\u001b[39;49m\u001b[39m*\u001b[39;49mkwargs)\n",
      "\u001b[0;31mFileNotFoundError\u001b[0m: [Errno 2] No such file or directory: '작품정보.csv'"
     ]
    }
   ],
   "source": []
  },
  {
   "cell_type": "code",
   "execution_count": null,
   "metadata": {},
   "outputs": [],
   "source": []
  }
 ],
 "metadata": {
  "kernelspec": {
   "display_name": "Python 3",
   "language": "python",
   "name": "python3"
  },
  "language_info": {
   "codemirror_mode": {
    "name": "ipython",
    "version": 3
   },
   "file_extension": ".py",
   "mimetype": "text/x-python",
   "name": "python",
   "nbconvert_exporter": "python",
   "pygments_lexer": "ipython3",
   "version": "3.9.6"
  }
 },
 "nbformat": 4,
 "nbformat_minor": 2
}
